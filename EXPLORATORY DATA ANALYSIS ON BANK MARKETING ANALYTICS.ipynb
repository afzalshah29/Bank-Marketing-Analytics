{
 "cells": [
  {
   "cell_type": "markdown",
   "id": "76a88260",
   "metadata": {},
   "source": [
    "# EXPLORATORY DATA ANALYSIS ON \"BANK MARKETING ANALYTICS\""
   ]
  },
  {
   "cell_type": "markdown",
   "id": "ab833d39",
   "metadata": {},
   "source": [
    "### Dataset Description\n",
    "The data is related with direct marketing campaigns of a Portuguese banking institution. The marketing campaigns were based on phone calls. Often, more than one contact to the same client was required, in order to access if the product (bank term deposit) would be (or not) subscribed.\n",
    "\n",
    "**Attribute/Features Description:**\n",
    "Dataset have 17 attributes including one dependent attribute and there are 45211 instances/datapoints. So we have 16 predictor/independent attributes and 1 dependent attribute.\n",
    "\n",
    "   **•bank client attributes:**\n",
    "■ age: age of client (numeric)\n",
    "\n",
    "■ job : type of job (categorical: \"admin.\", \"unknown\", \"unemployed\", \"management\", \"housemaid\", \"entrepreneur\", \"student\", \"blue-collar\", \"self-employed\", \"retired\", \"technician\", \"services\")\n",
    "\n",
    "■ marital : marital status (categorical: \"married\", \"divorced\", \"single\")\n",
    "\n",
    "■ education: client highest education (categorical: \"unknown\", \"secondary\", \"primary\", \"tertiary\")\n",
    "\n",
    "■ default: has credit in default? (binary/2-categories: \"yes\", \"no\")\n",
    "\n",
    "■ balance: average yearly balance, in euros (numeric)\n",
    "\n",
    "■ housing: has housing loan? (binary/2-categories: \"yes\", \"no\")\n",
    "\n",
    "■ loan: has personal loan? (binary/2-categories: \"yes\", \"no\")\n",
    "\n",
    "   **•related with the last contact of the current campaign:**\n",
    "   \n",
    "■ contact: contact communication type (categorical: \"unknown\", \"telephone\", \"cellular\")\n",
    "\n",
    "■ day: last contact day of the month (numeric)\n",
    "\n",
    "■ month: last contact month of year (categorical: \"jan\", \"feb\", \"mar\", ..., \"nov\", \"dec\")\n",
    "\n",
    "■ duration: last contact duration, in seconds (numeric)\n",
    "\n",
    "   **•other attributes:**\n",
    "   \n",
    "■ campaign: number of contacts performed during this campaign and for this client (numeric, includes last contact)\n",
    "\n",
    "■ pdays: number of days that passed by after the client was last contacted from a previous campaign (numeric, -1 means client\n",
    "was not previously contacted)\n",
    "\n",
    "■ previous: number of contacts performed before this campaign and for this client (numeric)\n",
    "\n",
    "■ poutcome: outcome of the previous marketing campaign ( categorical: 'unknown\",\"other\", \"failure\", \"success\")\n",
    "\n",
    "   **•Output variable (desired target):**\n",
    "   \n",
    "■ y: has the client subscribed a term deposit? (binary: \"yes\", \"no\") "
   ]
  },
  {
   "cell_type": "markdown",
   "id": "63e85377",
   "metadata": {},
   "source": [
    "**IMPORTING LIBRARIES**"
   ]
  },
  {
   "cell_type": "code",
   "execution_count": 236,
   "id": "74f35143",
   "metadata": {},
   "outputs": [],
   "source": [
    "import pandas as pd\n",
    "import numpy as np\n",
    "import matplotlib.pyplot as plt\n",
    "import seaborn as sns\n",
    "import pandas_profiling\n",
    "%matplotlib inline\n",
    "sns.set()"
   ]
  },
  {
   "cell_type": "markdown",
   "id": "6d8eeb35",
   "metadata": {},
   "source": [
    "**LOADING DATASET INTO NOTEBOOK**"
   ]
  },
  {
   "cell_type": "code",
   "execution_count": 237,
   "id": "7aa4ac8a",
   "metadata": {},
   "outputs": [],
   "source": [
    "bank_data = pd.read_excel(r\"C:\\Users\\maari\\OneDrive\\Desktop\\bank\\Bank_Full.xlsx\")"
   ]
  },
  {
   "cell_type": "markdown",
   "id": "98d7e1df",
   "metadata": {},
   "source": [
    "**CHECKING THE FIRST 5 AND LAST 5 ROWS OF THE DATASET, using head() & tail()**"
   ]
  },
  {
   "cell_type": "code",
   "execution_count": 238,
   "id": "5b6ef3ef",
   "metadata": {},
   "outputs": [
    {
     "data": {
      "text/html": [
       "<div>\n",
       "<style scoped>\n",
       "    .dataframe tbody tr th:only-of-type {\n",
       "        vertical-align: middle;\n",
       "    }\n",
       "\n",
       "    .dataframe tbody tr th {\n",
       "        vertical-align: top;\n",
       "    }\n",
       "\n",
       "    .dataframe thead th {\n",
       "        text-align: right;\n",
       "    }\n",
       "</style>\n",
       "<table border=\"1\" class=\"dataframe\">\n",
       "  <thead>\n",
       "    <tr style=\"text-align: right;\">\n",
       "      <th></th>\n",
       "      <th>age</th>\n",
       "      <th>job</th>\n",
       "      <th>marital</th>\n",
       "      <th>education</th>\n",
       "      <th>default</th>\n",
       "      <th>balance</th>\n",
       "      <th>housing</th>\n",
       "      <th>loan</th>\n",
       "      <th>contact</th>\n",
       "      <th>day</th>\n",
       "      <th>month</th>\n",
       "      <th>duration</th>\n",
       "      <th>campaign</th>\n",
       "      <th>pdays</th>\n",
       "      <th>previous</th>\n",
       "      <th>poutcome</th>\n",
       "      <th>y</th>\n",
       "    </tr>\n",
       "  </thead>\n",
       "  <tbody>\n",
       "    <tr>\n",
       "      <th>0</th>\n",
       "      <td>58</td>\n",
       "      <td>management</td>\n",
       "      <td>married</td>\n",
       "      <td>tertiary</td>\n",
       "      <td>no</td>\n",
       "      <td>2143</td>\n",
       "      <td>yes</td>\n",
       "      <td>no</td>\n",
       "      <td>unknown</td>\n",
       "      <td>5</td>\n",
       "      <td>may</td>\n",
       "      <td>261</td>\n",
       "      <td>1</td>\n",
       "      <td>-1</td>\n",
       "      <td>0</td>\n",
       "      <td>unknown</td>\n",
       "      <td>no</td>\n",
       "    </tr>\n",
       "    <tr>\n",
       "      <th>1</th>\n",
       "      <td>44</td>\n",
       "      <td>technician</td>\n",
       "      <td>single</td>\n",
       "      <td>secondary</td>\n",
       "      <td>no</td>\n",
       "      <td>29</td>\n",
       "      <td>yes</td>\n",
       "      <td>no</td>\n",
       "      <td>unknown</td>\n",
       "      <td>5</td>\n",
       "      <td>may</td>\n",
       "      <td>151</td>\n",
       "      <td>1</td>\n",
       "      <td>-1</td>\n",
       "      <td>0</td>\n",
       "      <td>unknown</td>\n",
       "      <td>no</td>\n",
       "    </tr>\n",
       "    <tr>\n",
       "      <th>2</th>\n",
       "      <td>33</td>\n",
       "      <td>entrepreneur</td>\n",
       "      <td>married</td>\n",
       "      <td>secondary</td>\n",
       "      <td>no</td>\n",
       "      <td>2</td>\n",
       "      <td>yes</td>\n",
       "      <td>yes</td>\n",
       "      <td>unknown</td>\n",
       "      <td>5</td>\n",
       "      <td>may</td>\n",
       "      <td>76</td>\n",
       "      <td>1</td>\n",
       "      <td>-1</td>\n",
       "      <td>0</td>\n",
       "      <td>unknown</td>\n",
       "      <td>no</td>\n",
       "    </tr>\n",
       "    <tr>\n",
       "      <th>3</th>\n",
       "      <td>47</td>\n",
       "      <td>blue-collar</td>\n",
       "      <td>married</td>\n",
       "      <td>unknown</td>\n",
       "      <td>no</td>\n",
       "      <td>1506</td>\n",
       "      <td>yes</td>\n",
       "      <td>no</td>\n",
       "      <td>unknown</td>\n",
       "      <td>5</td>\n",
       "      <td>may</td>\n",
       "      <td>92</td>\n",
       "      <td>1</td>\n",
       "      <td>-1</td>\n",
       "      <td>0</td>\n",
       "      <td>unknown</td>\n",
       "      <td>no</td>\n",
       "    </tr>\n",
       "    <tr>\n",
       "      <th>4</th>\n",
       "      <td>33</td>\n",
       "      <td>unknown</td>\n",
       "      <td>single</td>\n",
       "      <td>unknown</td>\n",
       "      <td>no</td>\n",
       "      <td>1</td>\n",
       "      <td>no</td>\n",
       "      <td>no</td>\n",
       "      <td>unknown</td>\n",
       "      <td>5</td>\n",
       "      <td>may</td>\n",
       "      <td>198</td>\n",
       "      <td>1</td>\n",
       "      <td>-1</td>\n",
       "      <td>0</td>\n",
       "      <td>unknown</td>\n",
       "      <td>no</td>\n",
       "    </tr>\n",
       "  </tbody>\n",
       "</table>\n",
       "</div>"
      ],
      "text/plain": [
       "   age           job  marital  education default  balance housing loan  \\\n",
       "0   58    management  married   tertiary      no     2143     yes   no   \n",
       "1   44    technician   single  secondary      no       29     yes   no   \n",
       "2   33  entrepreneur  married  secondary      no        2     yes  yes   \n",
       "3   47   blue-collar  married    unknown      no     1506     yes   no   \n",
       "4   33       unknown   single    unknown      no        1      no   no   \n",
       "\n",
       "   contact  day month  duration  campaign  pdays  previous poutcome   y  \n",
       "0  unknown    5   may       261         1     -1         0  unknown  no  \n",
       "1  unknown    5   may       151         1     -1         0  unknown  no  \n",
       "2  unknown    5   may        76         1     -1         0  unknown  no  \n",
       "3  unknown    5   may        92         1     -1         0  unknown  no  \n",
       "4  unknown    5   may       198         1     -1         0  unknown  no  "
      ]
     },
     "execution_count": 238,
     "metadata": {},
     "output_type": "execute_result"
    }
   ],
   "source": [
    "bank_data.head()"
   ]
  },
  {
   "cell_type": "code",
   "execution_count": 239,
   "id": "51e396c4",
   "metadata": {},
   "outputs": [
    {
     "data": {
      "text/html": [
       "<div>\n",
       "<style scoped>\n",
       "    .dataframe tbody tr th:only-of-type {\n",
       "        vertical-align: middle;\n",
       "    }\n",
       "\n",
       "    .dataframe tbody tr th {\n",
       "        vertical-align: top;\n",
       "    }\n",
       "\n",
       "    .dataframe thead th {\n",
       "        text-align: right;\n",
       "    }\n",
       "</style>\n",
       "<table border=\"1\" class=\"dataframe\">\n",
       "  <thead>\n",
       "    <tr style=\"text-align: right;\">\n",
       "      <th></th>\n",
       "      <th>age</th>\n",
       "      <th>job</th>\n",
       "      <th>marital</th>\n",
       "      <th>education</th>\n",
       "      <th>default</th>\n",
       "      <th>balance</th>\n",
       "      <th>housing</th>\n",
       "      <th>loan</th>\n",
       "      <th>contact</th>\n",
       "      <th>day</th>\n",
       "      <th>month</th>\n",
       "      <th>duration</th>\n",
       "      <th>campaign</th>\n",
       "      <th>pdays</th>\n",
       "      <th>previous</th>\n",
       "      <th>poutcome</th>\n",
       "      <th>y</th>\n",
       "    </tr>\n",
       "  </thead>\n",
       "  <tbody>\n",
       "    <tr>\n",
       "      <th>45206</th>\n",
       "      <td>51</td>\n",
       "      <td>technician</td>\n",
       "      <td>married</td>\n",
       "      <td>tertiary</td>\n",
       "      <td>no</td>\n",
       "      <td>825</td>\n",
       "      <td>no</td>\n",
       "      <td>no</td>\n",
       "      <td>cellular</td>\n",
       "      <td>17</td>\n",
       "      <td>nov</td>\n",
       "      <td>977</td>\n",
       "      <td>3</td>\n",
       "      <td>-1</td>\n",
       "      <td>0</td>\n",
       "      <td>unknown</td>\n",
       "      <td>yes</td>\n",
       "    </tr>\n",
       "    <tr>\n",
       "      <th>45207</th>\n",
       "      <td>71</td>\n",
       "      <td>retired</td>\n",
       "      <td>divorced</td>\n",
       "      <td>primary</td>\n",
       "      <td>no</td>\n",
       "      <td>1729</td>\n",
       "      <td>no</td>\n",
       "      <td>no</td>\n",
       "      <td>cellular</td>\n",
       "      <td>17</td>\n",
       "      <td>nov</td>\n",
       "      <td>456</td>\n",
       "      <td>2</td>\n",
       "      <td>-1</td>\n",
       "      <td>0</td>\n",
       "      <td>unknown</td>\n",
       "      <td>yes</td>\n",
       "    </tr>\n",
       "    <tr>\n",
       "      <th>45208</th>\n",
       "      <td>72</td>\n",
       "      <td>retired</td>\n",
       "      <td>married</td>\n",
       "      <td>secondary</td>\n",
       "      <td>no</td>\n",
       "      <td>5715</td>\n",
       "      <td>no</td>\n",
       "      <td>no</td>\n",
       "      <td>cellular</td>\n",
       "      <td>17</td>\n",
       "      <td>nov</td>\n",
       "      <td>1127</td>\n",
       "      <td>5</td>\n",
       "      <td>184</td>\n",
       "      <td>3</td>\n",
       "      <td>success</td>\n",
       "      <td>yes</td>\n",
       "    </tr>\n",
       "    <tr>\n",
       "      <th>45209</th>\n",
       "      <td>57</td>\n",
       "      <td>blue-collar</td>\n",
       "      <td>married</td>\n",
       "      <td>secondary</td>\n",
       "      <td>no</td>\n",
       "      <td>668</td>\n",
       "      <td>no</td>\n",
       "      <td>no</td>\n",
       "      <td>telephone</td>\n",
       "      <td>17</td>\n",
       "      <td>nov</td>\n",
       "      <td>508</td>\n",
       "      <td>4</td>\n",
       "      <td>-1</td>\n",
       "      <td>0</td>\n",
       "      <td>unknown</td>\n",
       "      <td>no</td>\n",
       "    </tr>\n",
       "    <tr>\n",
       "      <th>45210</th>\n",
       "      <td>37</td>\n",
       "      <td>entrepreneur</td>\n",
       "      <td>married</td>\n",
       "      <td>secondary</td>\n",
       "      <td>no</td>\n",
       "      <td>2971</td>\n",
       "      <td>no</td>\n",
       "      <td>no</td>\n",
       "      <td>cellular</td>\n",
       "      <td>17</td>\n",
       "      <td>nov</td>\n",
       "      <td>361</td>\n",
       "      <td>2</td>\n",
       "      <td>188</td>\n",
       "      <td>11</td>\n",
       "      <td>other</td>\n",
       "      <td>no</td>\n",
       "    </tr>\n",
       "  </tbody>\n",
       "</table>\n",
       "</div>"
      ],
      "text/plain": [
       "       age           job   marital  education default  balance housing loan  \\\n",
       "45206   51    technician   married   tertiary      no      825      no   no   \n",
       "45207   71       retired  divorced    primary      no     1729      no   no   \n",
       "45208   72       retired   married  secondary      no     5715      no   no   \n",
       "45209   57   blue-collar   married  secondary      no      668      no   no   \n",
       "45210   37  entrepreneur   married  secondary      no     2971      no   no   \n",
       "\n",
       "         contact  day month  duration  campaign  pdays  previous poutcome    y  \n",
       "45206   cellular   17   nov       977         3     -1         0  unknown  yes  \n",
       "45207   cellular   17   nov       456         2     -1         0  unknown  yes  \n",
       "45208   cellular   17   nov      1127         5    184         3  success  yes  \n",
       "45209  telephone   17   nov       508         4     -1         0  unknown   no  \n",
       "45210   cellular   17   nov       361         2    188        11    other   no  "
      ]
     },
     "execution_count": 239,
     "metadata": {},
     "output_type": "execute_result"
    }
   ],
   "source": [
    "bank_data.tail()"
   ]
  },
  {
   "cell_type": "markdown",
   "id": "d2d95f73",
   "metadata": {},
   "source": [
    "**CHECKING THE DATATYPE & OTHER INFO OF THE DATA SETS**"
   ]
  },
  {
   "cell_type": "code",
   "execution_count": 240,
   "id": "a142cbf2",
   "metadata": {},
   "outputs": [
    {
     "name": "stdout",
     "output_type": "stream",
     "text": [
      "<class 'pandas.core.frame.DataFrame'>\n",
      "RangeIndex: 45211 entries, 0 to 45210\n",
      "Data columns (total 17 columns):\n",
      " #   Column     Non-Null Count  Dtype \n",
      "---  ------     --------------  ----- \n",
      " 0   age        45211 non-null  int64 \n",
      " 1   job        45211 non-null  object\n",
      " 2   marital    45211 non-null  object\n",
      " 3   education  45211 non-null  object\n",
      " 4   default    45211 non-null  object\n",
      " 5   balance    45211 non-null  int64 \n",
      " 6   housing    45211 non-null  object\n",
      " 7   loan       45211 non-null  object\n",
      " 8   contact    45211 non-null  object\n",
      " 9   day        45211 non-null  int64 \n",
      " 10  month      45211 non-null  object\n",
      " 11  duration   45211 non-null  int64 \n",
      " 12  campaign   45211 non-null  int64 \n",
      " 13  pdays      45211 non-null  int64 \n",
      " 14  previous   45211 non-null  int64 \n",
      " 15  poutcome   45211 non-null  object\n",
      " 16  y          45211 non-null  object\n",
      "dtypes: int64(7), object(10)\n",
      "memory usage: 5.9+ MB\n"
     ]
    }
   ],
   "source": [
    "bank_data.info()"
   ]
  },
  {
   "cell_type": "code",
   "execution_count": 241,
   "id": "ad0f8f5d",
   "metadata": {},
   "outputs": [
    {
     "data": {
      "text/html": [
       "<div>\n",
       "<style scoped>\n",
       "    .dataframe tbody tr th:only-of-type {\n",
       "        vertical-align: middle;\n",
       "    }\n",
       "\n",
       "    .dataframe tbody tr th {\n",
       "        vertical-align: top;\n",
       "    }\n",
       "\n",
       "    .dataframe thead th {\n",
       "        text-align: right;\n",
       "    }\n",
       "</style>\n",
       "<table border=\"1\" class=\"dataframe\">\n",
       "  <thead>\n",
       "    <tr style=\"text-align: right;\">\n",
       "      <th></th>\n",
       "      <th>age</th>\n",
       "      <th>balance</th>\n",
       "      <th>day</th>\n",
       "      <th>duration</th>\n",
       "      <th>campaign</th>\n",
       "      <th>pdays</th>\n",
       "      <th>previous</th>\n",
       "    </tr>\n",
       "  </thead>\n",
       "  <tbody>\n",
       "    <tr>\n",
       "      <th>count</th>\n",
       "      <td>45211.000000</td>\n",
       "      <td>45211.000000</td>\n",
       "      <td>45211.000000</td>\n",
       "      <td>45211.000000</td>\n",
       "      <td>45211.000000</td>\n",
       "      <td>45211.000000</td>\n",
       "      <td>45211.000000</td>\n",
       "    </tr>\n",
       "    <tr>\n",
       "      <th>mean</th>\n",
       "      <td>40.936210</td>\n",
       "      <td>1362.272058</td>\n",
       "      <td>15.806419</td>\n",
       "      <td>258.163080</td>\n",
       "      <td>2.763841</td>\n",
       "      <td>40.197828</td>\n",
       "      <td>0.580323</td>\n",
       "    </tr>\n",
       "    <tr>\n",
       "      <th>std</th>\n",
       "      <td>10.618762</td>\n",
       "      <td>3044.765829</td>\n",
       "      <td>8.322476</td>\n",
       "      <td>257.527812</td>\n",
       "      <td>3.098021</td>\n",
       "      <td>100.128746</td>\n",
       "      <td>2.303441</td>\n",
       "    </tr>\n",
       "    <tr>\n",
       "      <th>min</th>\n",
       "      <td>18.000000</td>\n",
       "      <td>-8019.000000</td>\n",
       "      <td>1.000000</td>\n",
       "      <td>0.000000</td>\n",
       "      <td>1.000000</td>\n",
       "      <td>-1.000000</td>\n",
       "      <td>0.000000</td>\n",
       "    </tr>\n",
       "    <tr>\n",
       "      <th>25%</th>\n",
       "      <td>33.000000</td>\n",
       "      <td>72.000000</td>\n",
       "      <td>8.000000</td>\n",
       "      <td>103.000000</td>\n",
       "      <td>1.000000</td>\n",
       "      <td>-1.000000</td>\n",
       "      <td>0.000000</td>\n",
       "    </tr>\n",
       "    <tr>\n",
       "      <th>50%</th>\n",
       "      <td>39.000000</td>\n",
       "      <td>448.000000</td>\n",
       "      <td>16.000000</td>\n",
       "      <td>180.000000</td>\n",
       "      <td>2.000000</td>\n",
       "      <td>-1.000000</td>\n",
       "      <td>0.000000</td>\n",
       "    </tr>\n",
       "    <tr>\n",
       "      <th>75%</th>\n",
       "      <td>48.000000</td>\n",
       "      <td>1428.000000</td>\n",
       "      <td>21.000000</td>\n",
       "      <td>319.000000</td>\n",
       "      <td>3.000000</td>\n",
       "      <td>-1.000000</td>\n",
       "      <td>0.000000</td>\n",
       "    </tr>\n",
       "    <tr>\n",
       "      <th>max</th>\n",
       "      <td>95.000000</td>\n",
       "      <td>102127.000000</td>\n",
       "      <td>31.000000</td>\n",
       "      <td>4918.000000</td>\n",
       "      <td>63.000000</td>\n",
       "      <td>871.000000</td>\n",
       "      <td>275.000000</td>\n",
       "    </tr>\n",
       "  </tbody>\n",
       "</table>\n",
       "</div>"
      ],
      "text/plain": [
       "                age        balance           day      duration      campaign  \\\n",
       "count  45211.000000   45211.000000  45211.000000  45211.000000  45211.000000   \n",
       "mean      40.936210    1362.272058     15.806419    258.163080      2.763841   \n",
       "std       10.618762    3044.765829      8.322476    257.527812      3.098021   \n",
       "min       18.000000   -8019.000000      1.000000      0.000000      1.000000   \n",
       "25%       33.000000      72.000000      8.000000    103.000000      1.000000   \n",
       "50%       39.000000     448.000000     16.000000    180.000000      2.000000   \n",
       "75%       48.000000    1428.000000     21.000000    319.000000      3.000000   \n",
       "max       95.000000  102127.000000     31.000000   4918.000000     63.000000   \n",
       "\n",
       "              pdays      previous  \n",
       "count  45211.000000  45211.000000  \n",
       "mean      40.197828      0.580323  \n",
       "std      100.128746      2.303441  \n",
       "min       -1.000000      0.000000  \n",
       "25%       -1.000000      0.000000  \n",
       "50%       -1.000000      0.000000  \n",
       "75%       -1.000000      0.000000  \n",
       "max      871.000000    275.000000  "
      ]
     },
     "execution_count": 241,
     "metadata": {},
     "output_type": "execute_result"
    }
   ],
   "source": [
    "bank_data.describe()"
   ]
  },
  {
   "cell_type": "code",
   "execution_count": 242,
   "id": "5a146a1c",
   "metadata": {},
   "outputs": [
    {
     "data": {
      "text/plain": [
       "(45211, 17)"
      ]
     },
     "execution_count": 242,
     "metadata": {},
     "output_type": "execute_result"
    }
   ],
   "source": [
    "bank_data.shape     # shows total numbers of columns & rows in the data set"
   ]
  },
  {
   "cell_type": "code",
   "execution_count": 243,
   "id": "f36fb79a",
   "metadata": {},
   "outputs": [
    {
     "data": {
      "text/plain": [
       "Index(['age', 'job', 'marital', 'education', 'default', 'balance', 'housing',\n",
       "       'loan', 'contact', 'day', 'month', 'duration', 'campaign', 'pdays',\n",
       "       'previous', 'poutcome', 'y'],\n",
       "      dtype='object')"
      ]
     },
     "execution_count": 243,
     "metadata": {},
     "output_type": "execute_result"
    }
   ],
   "source": [
    "bank_data.columns  "
   ]
  },
  {
   "cell_type": "markdown",
   "id": "6acc8753",
   "metadata": {},
   "source": [
    "**CHECKING THE NULL VALUES OF DATASETS**"
   ]
  },
  {
   "cell_type": "code",
   "execution_count": 244,
   "id": "bc41fa9f",
   "metadata": {},
   "outputs": [
    {
     "data": {
      "text/plain": [
       "age          0\n",
       "job          0\n",
       "marital      0\n",
       "education    0\n",
       "default      0\n",
       "balance      0\n",
       "housing      0\n",
       "loan         0\n",
       "contact      0\n",
       "day          0\n",
       "month        0\n",
       "duration     0\n",
       "campaign     0\n",
       "pdays        0\n",
       "previous     0\n",
       "poutcome     0\n",
       "y            0\n",
       "dtype: int64"
      ]
     },
     "execution_count": 244,
     "metadata": {},
     "output_type": "execute_result"
    }
   ],
   "source": [
    "bank_data.isnull().sum() #this will return the counts of all null values from each columns"
   ]
  },
  {
   "cell_type": "markdown",
   "id": "271158be",
   "metadata": {},
   "source": [
    "**STEP.06 = RENAME THE VAROIUS COLOUMN FOR BETTER UNDERSTANDING**"
   ]
  },
  {
   "cell_type": "code",
   "execution_count": 245,
   "id": "f2686a59",
   "metadata": {},
   "outputs": [],
   "source": [
    "bank_data.rename(columns = {'hosing':'Housing_Loan', 'loan':'Personal_Loan', 'duration':'Last_Call_Duration', \n",
    "                            'campaign':'Current_Camp_Contacts', 'pdays':'Contact_Day_Diff', 'previous':'Previous_Camp_Contact',\n",
    "                           'poutcome':'Previous_Camp_Status', 'y':'Curr_Camp_Status'}, inplace=True)"
   ]
  },
  {
   "cell_type": "code",
   "execution_count": 246,
   "id": "afe3fef7",
   "metadata": {},
   "outputs": [
    {
     "data": {
      "text/html": [
       "<div>\n",
       "<style scoped>\n",
       "    .dataframe tbody tr th:only-of-type {\n",
       "        vertical-align: middle;\n",
       "    }\n",
       "\n",
       "    .dataframe tbody tr th {\n",
       "        vertical-align: top;\n",
       "    }\n",
       "\n",
       "    .dataframe thead th {\n",
       "        text-align: right;\n",
       "    }\n",
       "</style>\n",
       "<table border=\"1\" class=\"dataframe\">\n",
       "  <thead>\n",
       "    <tr style=\"text-align: right;\">\n",
       "      <th></th>\n",
       "      <th>age</th>\n",
       "      <th>job</th>\n",
       "      <th>marital</th>\n",
       "      <th>education</th>\n",
       "      <th>default</th>\n",
       "      <th>balance</th>\n",
       "      <th>housing</th>\n",
       "      <th>Personal_Loan</th>\n",
       "      <th>contact</th>\n",
       "      <th>day</th>\n",
       "      <th>month</th>\n",
       "      <th>Last_Call_Duration</th>\n",
       "      <th>Current_Camp_Contacts</th>\n",
       "      <th>Contact_Day_Diff</th>\n",
       "      <th>Previous_Camp_Contact</th>\n",
       "      <th>Previous_Camp_Status</th>\n",
       "      <th>Curr_Camp_Status</th>\n",
       "    </tr>\n",
       "  </thead>\n",
       "  <tbody>\n",
       "    <tr>\n",
       "      <th>0</th>\n",
       "      <td>58</td>\n",
       "      <td>management</td>\n",
       "      <td>married</td>\n",
       "      <td>tertiary</td>\n",
       "      <td>no</td>\n",
       "      <td>2143</td>\n",
       "      <td>yes</td>\n",
       "      <td>no</td>\n",
       "      <td>unknown</td>\n",
       "      <td>5</td>\n",
       "      <td>may</td>\n",
       "      <td>261</td>\n",
       "      <td>1</td>\n",
       "      <td>-1</td>\n",
       "      <td>0</td>\n",
       "      <td>unknown</td>\n",
       "      <td>no</td>\n",
       "    </tr>\n",
       "    <tr>\n",
       "      <th>1</th>\n",
       "      <td>44</td>\n",
       "      <td>technician</td>\n",
       "      <td>single</td>\n",
       "      <td>secondary</td>\n",
       "      <td>no</td>\n",
       "      <td>29</td>\n",
       "      <td>yes</td>\n",
       "      <td>no</td>\n",
       "      <td>unknown</td>\n",
       "      <td>5</td>\n",
       "      <td>may</td>\n",
       "      <td>151</td>\n",
       "      <td>1</td>\n",
       "      <td>-1</td>\n",
       "      <td>0</td>\n",
       "      <td>unknown</td>\n",
       "      <td>no</td>\n",
       "    </tr>\n",
       "    <tr>\n",
       "      <th>2</th>\n",
       "      <td>33</td>\n",
       "      <td>entrepreneur</td>\n",
       "      <td>married</td>\n",
       "      <td>secondary</td>\n",
       "      <td>no</td>\n",
       "      <td>2</td>\n",
       "      <td>yes</td>\n",
       "      <td>yes</td>\n",
       "      <td>unknown</td>\n",
       "      <td>5</td>\n",
       "      <td>may</td>\n",
       "      <td>76</td>\n",
       "      <td>1</td>\n",
       "      <td>-1</td>\n",
       "      <td>0</td>\n",
       "      <td>unknown</td>\n",
       "      <td>no</td>\n",
       "    </tr>\n",
       "    <tr>\n",
       "      <th>3</th>\n",
       "      <td>47</td>\n",
       "      <td>blue-collar</td>\n",
       "      <td>married</td>\n",
       "      <td>unknown</td>\n",
       "      <td>no</td>\n",
       "      <td>1506</td>\n",
       "      <td>yes</td>\n",
       "      <td>no</td>\n",
       "      <td>unknown</td>\n",
       "      <td>5</td>\n",
       "      <td>may</td>\n",
       "      <td>92</td>\n",
       "      <td>1</td>\n",
       "      <td>-1</td>\n",
       "      <td>0</td>\n",
       "      <td>unknown</td>\n",
       "      <td>no</td>\n",
       "    </tr>\n",
       "    <tr>\n",
       "      <th>4</th>\n",
       "      <td>33</td>\n",
       "      <td>unknown</td>\n",
       "      <td>single</td>\n",
       "      <td>unknown</td>\n",
       "      <td>no</td>\n",
       "      <td>1</td>\n",
       "      <td>no</td>\n",
       "      <td>no</td>\n",
       "      <td>unknown</td>\n",
       "      <td>5</td>\n",
       "      <td>may</td>\n",
       "      <td>198</td>\n",
       "      <td>1</td>\n",
       "      <td>-1</td>\n",
       "      <td>0</td>\n",
       "      <td>unknown</td>\n",
       "      <td>no</td>\n",
       "    </tr>\n",
       "  </tbody>\n",
       "</table>\n",
       "</div>"
      ],
      "text/plain": [
       "   age           job  marital  education default  balance housing  \\\n",
       "0   58    management  married   tertiary      no     2143     yes   \n",
       "1   44    technician   single  secondary      no       29     yes   \n",
       "2   33  entrepreneur  married  secondary      no        2     yes   \n",
       "3   47   blue-collar  married    unknown      no     1506     yes   \n",
       "4   33       unknown   single    unknown      no        1      no   \n",
       "\n",
       "  Personal_Loan  contact  day month  Last_Call_Duration  \\\n",
       "0            no  unknown    5   may                 261   \n",
       "1            no  unknown    5   may                 151   \n",
       "2           yes  unknown    5   may                  76   \n",
       "3            no  unknown    5   may                  92   \n",
       "4            no  unknown    5   may                 198   \n",
       "\n",
       "   Current_Camp_Contacts  Contact_Day_Diff  Previous_Camp_Contact  \\\n",
       "0                      1                -1                      0   \n",
       "1                      1                -1                      0   \n",
       "2                      1                -1                      0   \n",
       "3                      1                -1                      0   \n",
       "4                      1                -1                      0   \n",
       "\n",
       "  Previous_Camp_Status Curr_Camp_Status  \n",
       "0              unknown               no  \n",
       "1              unknown               no  \n",
       "2              unknown               no  \n",
       "3              unknown               no  \n",
       "4              unknown               no  "
      ]
     },
     "execution_count": 246,
     "metadata": {},
     "output_type": "execute_result"
    }
   ],
   "source": [
    "bank_data.head()"
   ]
  },
  {
   "cell_type": "markdown",
   "id": "2c233a5a",
   "metadata": {},
   "source": [
    "**CREATING FUNCTION FOR (AGE GROUP)**"
   ]
  },
  {
   "cell_type": "markdown",
   "id": "a1ce36d2",
   "metadata": {},
   "source": [
    "**x(18-30):Young Adults, x(31-45):Min Age Adults, x(46-60): Veterans, x(>60): Senior Citizen**"
   ]
  },
  {
   "cell_type": "code",
   "execution_count": 247,
   "id": "e851391a",
   "metadata": {},
   "outputs": [],
   "source": [
    "bank_data['Age_Group']=bank_data['age']"
   ]
  },
  {
   "cell_type": "code",
   "execution_count": 248,
   "id": "9b6e1142",
   "metadata": {},
   "outputs": [],
   "source": [
    "#creating a function.\n",
    "def age_group(x):\n",
    "    if x>=18 and x <=30:\n",
    "        return 'Young Adults'\n",
    "    elif x>=31 and x<=45:\n",
    "        return 'Mid Age Adults'\n",
    "    elif x>=46 and x<=60:\n",
    "        return 'Veterans'\n",
    "    else:\n",
    "        return 'Senior Citizen'"
   ]
  },
  {
   "cell_type": "code",
   "execution_count": 249,
   "id": "1f6a947a",
   "metadata": {},
   "outputs": [],
   "source": [
    "#applying function to the column\n",
    "bank_data['Age_Group']= bank_data['Age_Group'].apply(age_group)"
   ]
  },
  {
   "cell_type": "code",
   "execution_count": 250,
   "id": "f76638be",
   "metadata": {},
   "outputs": [
    {
     "data": {
      "text/plain": [
       "<AxesSubplot:xlabel='Age_Group', ylabel='count'>"
      ]
     },
     "execution_count": 250,
     "metadata": {},
     "output_type": "execute_result"
    },
    {
     "data": {
      "image/png": "[encoded data removed]",
      "text/plain": [
       "<Figure size 432x288 with 1 Axes>"
      ]
     },
     "metadata": {},
     "output_type": "display_data"
    }
   ],
   "source": [
    "sns.countplot(x='Age_Group', data = bank_data)"
   ]
  },
  {
   "cell_type": "markdown",
   "id": "6dbb3485",
   "metadata": {},
   "source": [
    "**STE-.07=CHECKING THE VALUE COUNTS IN (JOB TYPES) & TREATING THE MISSING VALUES WITH MODE**"
   ]
  },
  {
   "cell_type": "code",
   "execution_count": 251,
   "id": "4642c71d",
   "metadata": {},
   "outputs": [
    {
     "data": {
      "text/plain": [
       "blue-collar      9732\n",
       "management       9458\n",
       "technician       7597\n",
       "admin.           5171\n",
       "services         4154\n",
       "retired          2264\n",
       "self-employed    1579\n",
       "entrepreneur     1487\n",
       "unemployed       1303\n",
       "housemaid        1240\n",
       "student           938\n",
       "unknown           288\n",
       "Name: job, dtype: int64"
      ]
     },
     "execution_count": 251,
     "metadata": {},
     "output_type": "execute_result"
    }
   ],
   "source": [
    "bank_data.job.value_counts()"
   ]
  },
  {
   "cell_type": "code",
   "execution_count": 252,
   "id": "f6e3b7aa",
   "metadata": {},
   "outputs": [
    {
     "data": {
      "text/plain": [
       "0    blue-collar\n",
       "Name: job, dtype: object"
      ]
     },
     "execution_count": 252,
     "metadata": {},
     "output_type": "execute_result"
    }
   ],
   "source": [
    "bank_data.job.mode()   #Finding the mode, so that we can replace it with unknown entires."
   ]
  },
  {
   "cell_type": "code",
   "execution_count": 253,
   "id": "d6f18ad0",
   "metadata": {},
   "outputs": [],
   "source": [
    "#Replacing null value with mode column by creating the function\n",
    "def unknown2blue(x):\n",
    "    if x=='unknown':\n",
    "        return 'blue-collar'\n",
    "    else:\n",
    "        return x"
   ]
  },
  {
   "cell_type": "code",
   "execution_count": 254,
   "id": "760a8c2f",
   "metadata": {},
   "outputs": [],
   "source": [
    "bank_data['job']= bank_data['job'].apply(unknown2blue)"
   ]
  },
  {
   "cell_type": "code",
   "execution_count": 255,
   "id": "1d8a461f",
   "metadata": {},
   "outputs": [
    {
     "data": {
      "text/plain": [
       "blue-collar      10020\n",
       "management        9458\n",
       "technician        7597\n",
       "admin.            5171\n",
       "services          4154\n",
       "retired           2264\n",
       "self-employed     1579\n",
       "entrepreneur      1487\n",
       "unemployed        1303\n",
       "housemaid         1240\n",
       "student            938\n",
       "Name: job, dtype: int64"
      ]
     },
     "execution_count": 255,
     "metadata": {},
     "output_type": "execute_result"
    }
   ],
   "source": [
    "bank_data['job'].value_counts()  #Checking after replacing the unknowns with mode"
   ]
  },
  {
   "cell_type": "code",
   "execution_count": 256,
   "id": "0b1d91cd",
   "metadata": {},
   "outputs": [
    {
     "data": {
      "text/plain": [
       "array(['management', 'technician', 'entrepreneur', 'blue-collar',\n",
       "       'retired', 'admin.', 'services', 'self-employed', 'unemployed',\n",
       "       'housemaid', 'student'], dtype=object)"
      ]
     },
     "execution_count": 256,
     "metadata": {},
     "output_type": "execute_result"
    }
   ],
   "source": [
    "bank_data['job'].unique()"
   ]
  },
  {
   "cell_type": "markdown",
   "id": "33ff89a8",
   "metadata": {},
   "source": [
    "**Grouping the Job_Types into White Collar Job/ Blue Collar Job/ Entrepreneur**"
   ]
  },
  {
   "cell_type": "code",
   "execution_count": 257,
   "id": "45b89445",
   "metadata": {},
   "outputs": [],
   "source": [
    "bank_data['Job_Group']= bank_data['job']"
   ]
  },
  {
   "cell_type": "code",
   "execution_count": 258,
   "id": "870dc278",
   "metadata": {},
   "outputs": [],
   "source": [
    "#creating a function.\n",
    "def job_grp(x):\n",
    "    if x == 'admin.' or x == 'management' or x=='services':\n",
    "        return 'White Collar'\n",
    "    elif x == 'blue-collar' or x=='technician' or x == 'housemaid':\n",
    "        return 'Blue Collar'\n",
    "    elif x=='entrepreneur' or x == 'self-employed':\n",
    "        return 'Entrepreneur'\n",
    "    else:\n",
    "        return x"
   ]
  },
  {
   "cell_type": "code",
   "execution_count": 259,
   "id": "153eb401",
   "metadata": {},
   "outputs": [],
   "source": [
    "#Applying the grouping function\n",
    "bank_data['Job_Group']= bank_data['Job_Group'].apply(job_grp)"
   ]
  },
  {
   "cell_type": "code",
   "execution_count": 260,
   "id": "4f9e9f85",
   "metadata": {},
   "outputs": [
    {
     "data": {
      "text/plain": [
       "Blue Collar     18857\n",
       "White Collar    18783\n",
       "Entrepreneur     3066\n",
       "retired          2264\n",
       "unemployed       1303\n",
       "student           938\n",
       "Name: Job_Group, dtype: int64"
      ]
     },
     "execution_count": 260,
     "metadata": {},
     "output_type": "execute_result"
    }
   ],
   "source": [
    "#checking the result after applying the function.\n",
    "bank_data['Job_Group'].value_counts()"
   ]
  },
  {
   "cell_type": "markdown",
   "id": "f19182fa",
   "metadata": {},
   "source": [
    "**STEP.08= CHECKING AND TREATING THE MISSING VALUES FROM EDUCATION COLUMN**"
   ]
  },
  {
   "cell_type": "code",
   "execution_count": 261,
   "id": "c6d8c66d",
   "metadata": {},
   "outputs": [
    {
     "data": {
      "text/plain": [
       "secondary    23202\n",
       "tertiary     13301\n",
       "primary       6851\n",
       "unknown       1857\n",
       "Name: education, dtype: int64"
      ]
     },
     "execution_count": 261,
     "metadata": {},
     "output_type": "execute_result"
    }
   ],
   "source": [
    "bank_data['education'].value_counts()"
   ]
  },
  {
   "cell_type": "code",
   "execution_count": 262,
   "id": "d85fe8a8",
   "metadata": {},
   "outputs": [
    {
     "data": {
      "text/plain": [
       "0    secondary\n",
       "Name: education, dtype: object"
      ]
     },
     "execution_count": 262,
     "metadata": {},
     "output_type": "execute_result"
    }
   ],
   "source": [
    "bank_data.education.mode()  #finding the mode of education"
   ]
  },
  {
   "cell_type": "markdown",
   "id": "ff2fe5be",
   "metadata": {},
   "source": [
    "**The above result shows there are 928 unknown entries, to treat them we need to replace them with MODE of the column**"
   ]
  },
  {
   "cell_type": "code",
   "execution_count": 263,
   "id": "01ec90ae",
   "metadata": {},
   "outputs": [],
   "source": [
    "#Replacing null value with mode column by creating the function\n",
    "def unknown2sec(x):\n",
    "    if x ==\"unknown\":\n",
    "        return 'secondary'\n",
    "    else:\n",
    "        return x"
   ]
  },
  {
   "cell_type": "code",
   "execution_count": 264,
   "id": "6269a900",
   "metadata": {},
   "outputs": [],
   "source": [
    "bank_data['education']=bank_data['education'].apply(unknown2sec)        #Applying the function to replace the unknown."
   ]
  },
  {
   "cell_type": "code",
   "execution_count": 265,
   "id": "8e91d77e",
   "metadata": {},
   "outputs": [
    {
     "data": {
      "text/plain": [
       "secondary    25059\n",
       "tertiary     13301\n",
       "primary       6851\n",
       "Name: education, dtype: int64"
      ]
     },
     "execution_count": 265,
     "metadata": {},
     "output_type": "execute_result"
    }
   ],
   "source": [
    "bank_data['education'].value_counts()   #checking the result after removing the null values."
   ]
  },
  {
   "cell_type": "markdown",
   "id": "453200a9",
   "metadata": {},
   "source": [
    "**STEP.07.5= CONVERTING THE VALUES IN THE Last_Call_Duration COLUMN FROM SECONDS TO MINTUES & ROUNDING TO 0.**"
   ]
  },
  {
   "cell_type": "code",
   "execution_count": 266,
   "id": "684477eb",
   "metadata": {},
   "outputs": [],
   "source": [
    "#dividing the column with 60 to get values in minutes and using .round(0) function.\n",
    "bank_data['Last_Call_Duration'] = (bank_data['Last_Call_Duration']/60).round(0)"
   ]
  },
  {
   "cell_type": "code",
   "execution_count": 267,
   "id": "3601aad9",
   "metadata": {},
   "outputs": [
    {
     "data": {
      "text/html": [
       "<div>\n",
       "<style scoped>\n",
       "    .dataframe tbody tr th:only-of-type {\n",
       "        vertical-align: middle;\n",
       "    }\n",
       "\n",
       "    .dataframe tbody tr th {\n",
       "        vertical-align: top;\n",
       "    }\n",
       "\n",
       "    .dataframe thead th {\n",
       "        text-align: right;\n",
       "    }\n",
       "</style>\n",
       "<table border=\"1\" class=\"dataframe\">\n",
       "  <thead>\n",
       "    <tr style=\"text-align: right;\">\n",
       "      <th></th>\n",
       "      <th>age</th>\n",
       "      <th>job</th>\n",
       "      <th>marital</th>\n",
       "      <th>education</th>\n",
       "      <th>default</th>\n",
       "      <th>balance</th>\n",
       "      <th>housing</th>\n",
       "      <th>Personal_Loan</th>\n",
       "      <th>contact</th>\n",
       "      <th>day</th>\n",
       "      <th>month</th>\n",
       "      <th>Last_Call_Duration</th>\n",
       "      <th>Current_Camp_Contacts</th>\n",
       "      <th>Contact_Day_Diff</th>\n",
       "      <th>Previous_Camp_Contact</th>\n",
       "      <th>Previous_Camp_Status</th>\n",
       "      <th>Curr_Camp_Status</th>\n",
       "      <th>Age_Group</th>\n",
       "      <th>Job_Group</th>\n",
       "    </tr>\n",
       "  </thead>\n",
       "  <tbody>\n",
       "    <tr>\n",
       "      <th>0</th>\n",
       "      <td>58</td>\n",
       "      <td>management</td>\n",
       "      <td>married</td>\n",
       "      <td>tertiary</td>\n",
       "      <td>no</td>\n",
       "      <td>2143</td>\n",
       "      <td>yes</td>\n",
       "      <td>no</td>\n",
       "      <td>unknown</td>\n",
       "      <td>5</td>\n",
       "      <td>may</td>\n",
       "      <td>4.0</td>\n",
       "      <td>1</td>\n",
       "      <td>-1</td>\n",
       "      <td>0</td>\n",
       "      <td>unknown</td>\n",
       "      <td>no</td>\n",
       "      <td>Veterans</td>\n",
       "      <td>White Collar</td>\n",
       "    </tr>\n",
       "    <tr>\n",
       "      <th>1</th>\n",
       "      <td>44</td>\n",
       "      <td>technician</td>\n",
       "      <td>single</td>\n",
       "      <td>secondary</td>\n",
       "      <td>no</td>\n",
       "      <td>29</td>\n",
       "      <td>yes</td>\n",
       "      <td>no</td>\n",
       "      <td>unknown</td>\n",
       "      <td>5</td>\n",
       "      <td>may</td>\n",
       "      <td>3.0</td>\n",
       "      <td>1</td>\n",
       "      <td>-1</td>\n",
       "      <td>0</td>\n",
       "      <td>unknown</td>\n",
       "      <td>no</td>\n",
       "      <td>Mid Age Adults</td>\n",
       "      <td>Blue Collar</td>\n",
       "    </tr>\n",
       "    <tr>\n",
       "      <th>2</th>\n",
       "      <td>33</td>\n",
       "      <td>entrepreneur</td>\n",
       "      <td>married</td>\n",
       "      <td>secondary</td>\n",
       "      <td>no</td>\n",
       "      <td>2</td>\n",
       "      <td>yes</td>\n",
       "      <td>yes</td>\n",
       "      <td>unknown</td>\n",
       "      <td>5</td>\n",
       "      <td>may</td>\n",
       "      <td>1.0</td>\n",
       "      <td>1</td>\n",
       "      <td>-1</td>\n",
       "      <td>0</td>\n",
       "      <td>unknown</td>\n",
       "      <td>no</td>\n",
       "      <td>Mid Age Adults</td>\n",
       "      <td>Entrepreneur</td>\n",
       "    </tr>\n",
       "    <tr>\n",
       "      <th>3</th>\n",
       "      <td>47</td>\n",
       "      <td>blue-collar</td>\n",
       "      <td>married</td>\n",
       "      <td>secondary</td>\n",
       "      <td>no</td>\n",
       "      <td>1506</td>\n",
       "      <td>yes</td>\n",
       "      <td>no</td>\n",
       "      <td>unknown</td>\n",
       "      <td>5</td>\n",
       "      <td>may</td>\n",
       "      <td>2.0</td>\n",
       "      <td>1</td>\n",
       "      <td>-1</td>\n",
       "      <td>0</td>\n",
       "      <td>unknown</td>\n",
       "      <td>no</td>\n",
       "      <td>Veterans</td>\n",
       "      <td>Blue Collar</td>\n",
       "    </tr>\n",
       "    <tr>\n",
       "      <th>4</th>\n",
       "      <td>33</td>\n",
       "      <td>blue-collar</td>\n",
       "      <td>single</td>\n",
       "      <td>secondary</td>\n",
       "      <td>no</td>\n",
       "      <td>1</td>\n",
       "      <td>no</td>\n",
       "      <td>no</td>\n",
       "      <td>unknown</td>\n",
       "      <td>5</td>\n",
       "      <td>may</td>\n",
       "      <td>3.0</td>\n",
       "      <td>1</td>\n",
       "      <td>-1</td>\n",
       "      <td>0</td>\n",
       "      <td>unknown</td>\n",
       "      <td>no</td>\n",
       "      <td>Mid Age Adults</td>\n",
       "      <td>Blue Collar</td>\n",
       "    </tr>\n",
       "    <tr>\n",
       "      <th>...</th>\n",
       "      <td>...</td>\n",
       "      <td>...</td>\n",
       "      <td>...</td>\n",
       "      <td>...</td>\n",
       "      <td>...</td>\n",
       "      <td>...</td>\n",
       "      <td>...</td>\n",
       "      <td>...</td>\n",
       "      <td>...</td>\n",
       "      <td>...</td>\n",
       "      <td>...</td>\n",
       "      <td>...</td>\n",
       "      <td>...</td>\n",
       "      <td>...</td>\n",
       "      <td>...</td>\n",
       "      <td>...</td>\n",
       "      <td>...</td>\n",
       "      <td>...</td>\n",
       "      <td>...</td>\n",
       "    </tr>\n",
       "    <tr>\n",
       "      <th>45206</th>\n",
       "      <td>51</td>\n",
       "      <td>technician</td>\n",
       "      <td>married</td>\n",
       "      <td>tertiary</td>\n",
       "      <td>no</td>\n",
       "      <td>825</td>\n",
       "      <td>no</td>\n",
       "      <td>no</td>\n",
       "      <td>cellular</td>\n",
       "      <td>17</td>\n",
       "      <td>nov</td>\n",
       "      <td>16.0</td>\n",
       "      <td>3</td>\n",
       "      <td>-1</td>\n",
       "      <td>0</td>\n",
       "      <td>unknown</td>\n",
       "      <td>yes</td>\n",
       "      <td>Veterans</td>\n",
       "      <td>Blue Collar</td>\n",
       "    </tr>\n",
       "    <tr>\n",
       "      <th>45207</th>\n",
       "      <td>71</td>\n",
       "      <td>retired</td>\n",
       "      <td>divorced</td>\n",
       "      <td>primary</td>\n",
       "      <td>no</td>\n",
       "      <td>1729</td>\n",
       "      <td>no</td>\n",
       "      <td>no</td>\n",
       "      <td>cellular</td>\n",
       "      <td>17</td>\n",
       "      <td>nov</td>\n",
       "      <td>8.0</td>\n",
       "      <td>2</td>\n",
       "      <td>-1</td>\n",
       "      <td>0</td>\n",
       "      <td>unknown</td>\n",
       "      <td>yes</td>\n",
       "      <td>Senior Citizen</td>\n",
       "      <td>retired</td>\n",
       "    </tr>\n",
       "    <tr>\n",
       "      <th>45208</th>\n",
       "      <td>72</td>\n",
       "      <td>retired</td>\n",
       "      <td>married</td>\n",
       "      <td>secondary</td>\n",
       "      <td>no</td>\n",
       "      <td>5715</td>\n",
       "      <td>no</td>\n",
       "      <td>no</td>\n",
       "      <td>cellular</td>\n",
       "      <td>17</td>\n",
       "      <td>nov</td>\n",
       "      <td>19.0</td>\n",
       "      <td>5</td>\n",
       "      <td>184</td>\n",
       "      <td>3</td>\n",
       "      <td>success</td>\n",
       "      <td>yes</td>\n",
       "      <td>Senior Citizen</td>\n",
       "      <td>retired</td>\n",
       "    </tr>\n",
       "    <tr>\n",
       "      <th>45209</th>\n",
       "      <td>57</td>\n",
       "      <td>blue-collar</td>\n",
       "      <td>married</td>\n",
       "      <td>secondary</td>\n",
       "      <td>no</td>\n",
       "      <td>668</td>\n",
       "      <td>no</td>\n",
       "      <td>no</td>\n",
       "      <td>telephone</td>\n",
       "      <td>17</td>\n",
       "      <td>nov</td>\n",
       "      <td>8.0</td>\n",
       "      <td>4</td>\n",
       "      <td>-1</td>\n",
       "      <td>0</td>\n",
       "      <td>unknown</td>\n",
       "      <td>no</td>\n",
       "      <td>Veterans</td>\n",
       "      <td>Blue Collar</td>\n",
       "    </tr>\n",
       "    <tr>\n",
       "      <th>45210</th>\n",
       "      <td>37</td>\n",
       "      <td>entrepreneur</td>\n",
       "      <td>married</td>\n",
       "      <td>secondary</td>\n",
       "      <td>no</td>\n",
       "      <td>2971</td>\n",
       "      <td>no</td>\n",
       "      <td>no</td>\n",
       "      <td>cellular</td>\n",
       "      <td>17</td>\n",
       "      <td>nov</td>\n",
       "      <td>6.0</td>\n",
       "      <td>2</td>\n",
       "      <td>188</td>\n",
       "      <td>11</td>\n",
       "      <td>other</td>\n",
       "      <td>no</td>\n",
       "      <td>Mid Age Adults</td>\n",
       "      <td>Entrepreneur</td>\n",
       "    </tr>\n",
       "  </tbody>\n",
       "</table>\n",
       "<p>45211 rows × 19 columns</p>\n",
       "</div>"
      ],
      "text/plain": [
       "       age           job   marital  education default  balance housing  \\\n",
       "0       58    management   married   tertiary      no     2143     yes   \n",
       "1       44    technician    single  secondary      no       29     yes   \n",
       "2       33  entrepreneur   married  secondary      no        2     yes   \n",
       "3       47   blue-collar   married  secondary      no     1506     yes   \n",
       "4       33   blue-collar    single  secondary      no        1      no   \n",
       "...    ...           ...       ...        ...     ...      ...     ...   \n",
       "45206   51    technician   married   tertiary      no      825      no   \n",
       "45207   71       retired  divorced    primary      no     1729      no   \n",
       "45208   72       retired   married  secondary      no     5715      no   \n",
       "45209   57   blue-collar   married  secondary      no      668      no   \n",
       "45210   37  entrepreneur   married  secondary      no     2971      no   \n",
       "\n",
       "      Personal_Loan    contact  day month  Last_Call_Duration  \\\n",
       "0                no    unknown    5   may                 4.0   \n",
       "1                no    unknown    5   may                 3.0   \n",
       "2               yes    unknown    5   may                 1.0   \n",
       "3                no    unknown    5   may                 2.0   \n",
       "4                no    unknown    5   may                 3.0   \n",
       "...             ...        ...  ...   ...                 ...   \n",
       "45206            no   cellular   17   nov                16.0   \n",
       "45207            no   cellular   17   nov                 8.0   \n",
       "45208            no   cellular   17   nov                19.0   \n",
       "45209            no  telephone   17   nov                 8.0   \n",
       "45210            no   cellular   17   nov                 6.0   \n",
       "\n",
       "       Current_Camp_Contacts  Contact_Day_Diff  Previous_Camp_Contact  \\\n",
       "0                          1                -1                      0   \n",
       "1                          1                -1                      0   \n",
       "2                          1                -1                      0   \n",
       "3                          1                -1                      0   \n",
       "4                          1                -1                      0   \n",
       "...                      ...               ...                    ...   \n",
       "45206                      3                -1                      0   \n",
       "45207                      2                -1                      0   \n",
       "45208                      5               184                      3   \n",
       "45209                      4                -1                      0   \n",
       "45210                      2               188                     11   \n",
       "\n",
       "      Previous_Camp_Status Curr_Camp_Status       Age_Group     Job_Group  \n",
       "0                  unknown               no        Veterans  White Collar  \n",
       "1                  unknown               no  Mid Age Adults   Blue Collar  \n",
       "2                  unknown               no  Mid Age Adults  Entrepreneur  \n",
       "3                  unknown               no        Veterans   Blue Collar  \n",
       "4                  unknown               no  Mid Age Adults   Blue Collar  \n",
       "...                    ...              ...             ...           ...  \n",
       "45206              unknown              yes        Veterans   Blue Collar  \n",
       "45207              unknown              yes  Senior Citizen       retired  \n",
       "45208              success              yes  Senior Citizen       retired  \n",
       "45209              unknown               no        Veterans   Blue Collar  \n",
       "45210                other               no  Mid Age Adults  Entrepreneur  \n",
       "\n",
       "[45211 rows x 19 columns]"
      ]
     },
     "execution_count": 267,
     "metadata": {},
     "output_type": "execute_result"
    }
   ],
   "source": [
    "#checking the changes in Last_Call_Dur column\n",
    "bank_data"
   ]
  },
  {
   "cell_type": "code",
   "execution_count": 268,
   "id": "e7060b57",
   "metadata": {},
   "outputs": [
    {
     "data": {
      "text/plain": [
       "cellular     29285\n",
       "unknown      13020\n",
       "telephone     2906\n",
       "Name: contact, dtype: int64"
      ]
     },
     "execution_count": 268,
     "metadata": {},
     "output_type": "execute_result"
    }
   ],
   "source": [
    "bank_data.contact.value_counts()"
   ]
  },
  {
   "cell_type": "code",
   "execution_count": 269,
   "id": "06de30d6",
   "metadata": {},
   "outputs": [
    {
     "data": {
      "text/plain": [
       "0    cellular\n",
       "Name: contact, dtype: object"
      ]
     },
     "execution_count": 269,
     "metadata": {},
     "output_type": "execute_result"
    }
   ],
   "source": [
    "#finding the mode of contact\n",
    "bank_data.contact.mode()"
   ]
  },
  {
   "cell_type": "code",
   "execution_count": 270,
   "id": "92a0f254",
   "metadata": {},
   "outputs": [],
   "source": [
    "#Replacing null value with mode column by creating the function\n",
    "def unknown2cell(x):\n",
    "    if x ==\"unknown\":\n",
    "        return 'cellular'\n",
    "    else:\n",
    "        return x"
   ]
  },
  {
   "cell_type": "code",
   "execution_count": 271,
   "id": "8c987e8b",
   "metadata": {},
   "outputs": [],
   "source": [
    "bank_data['contact'] = bank_data['contact'].apply(unknown2cell)"
   ]
  },
  {
   "cell_type": "code",
   "execution_count": 272,
   "id": "5b460eeb",
   "metadata": {},
   "outputs": [
    {
     "data": {
      "text/html": [
       "<div>\n",
       "<style scoped>\n",
       "    .dataframe tbody tr th:only-of-type {\n",
       "        vertical-align: middle;\n",
       "    }\n",
       "\n",
       "    .dataframe tbody tr th {\n",
       "        vertical-align: top;\n",
       "    }\n",
       "\n",
       "    .dataframe thead th {\n",
       "        text-align: right;\n",
       "    }\n",
       "</style>\n",
       "<table border=\"1\" class=\"dataframe\">\n",
       "  <thead>\n",
       "    <tr style=\"text-align: right;\">\n",
       "      <th></th>\n",
       "      <th>age</th>\n",
       "      <th>job</th>\n",
       "      <th>marital</th>\n",
       "      <th>education</th>\n",
       "      <th>default</th>\n",
       "      <th>balance</th>\n",
       "      <th>housing</th>\n",
       "      <th>Personal_Loan</th>\n",
       "      <th>contact</th>\n",
       "      <th>day</th>\n",
       "      <th>month</th>\n",
       "      <th>Last_Call_Duration</th>\n",
       "      <th>Current_Camp_Contacts</th>\n",
       "      <th>Contact_Day_Diff</th>\n",
       "      <th>Previous_Camp_Contact</th>\n",
       "      <th>Previous_Camp_Status</th>\n",
       "      <th>Curr_Camp_Status</th>\n",
       "      <th>Age_Group</th>\n",
       "      <th>Job_Group</th>\n",
       "    </tr>\n",
       "  </thead>\n",
       "  <tbody>\n",
       "    <tr>\n",
       "      <th>0</th>\n",
       "      <td>58</td>\n",
       "      <td>management</td>\n",
       "      <td>married</td>\n",
       "      <td>tertiary</td>\n",
       "      <td>no</td>\n",
       "      <td>2143</td>\n",
       "      <td>yes</td>\n",
       "      <td>no</td>\n",
       "      <td>cellular</td>\n",
       "      <td>5</td>\n",
       "      <td>may</td>\n",
       "      <td>4.0</td>\n",
       "      <td>1</td>\n",
       "      <td>-1</td>\n",
       "      <td>0</td>\n",
       "      <td>unknown</td>\n",
       "      <td>no</td>\n",
       "      <td>Veterans</td>\n",
       "      <td>White Collar</td>\n",
       "    </tr>\n",
       "    <tr>\n",
       "      <th>1</th>\n",
       "      <td>44</td>\n",
       "      <td>technician</td>\n",
       "      <td>single</td>\n",
       "      <td>secondary</td>\n",
       "      <td>no</td>\n",
       "      <td>29</td>\n",
       "      <td>yes</td>\n",
       "      <td>no</td>\n",
       "      <td>cellular</td>\n",
       "      <td>5</td>\n",
       "      <td>may</td>\n",
       "      <td>3.0</td>\n",
       "      <td>1</td>\n",
       "      <td>-1</td>\n",
       "      <td>0</td>\n",
       "      <td>unknown</td>\n",
       "      <td>no</td>\n",
       "      <td>Mid Age Adults</td>\n",
       "      <td>Blue Collar</td>\n",
       "    </tr>\n",
       "    <tr>\n",
       "      <th>2</th>\n",
       "      <td>33</td>\n",
       "      <td>entrepreneur</td>\n",
       "      <td>married</td>\n",
       "      <td>secondary</td>\n",
       "      <td>no</td>\n",
       "      <td>2</td>\n",
       "      <td>yes</td>\n",
       "      <td>yes</td>\n",
       "      <td>cellular</td>\n",
       "      <td>5</td>\n",
       "      <td>may</td>\n",
       "      <td>1.0</td>\n",
       "      <td>1</td>\n",
       "      <td>-1</td>\n",
       "      <td>0</td>\n",
       "      <td>unknown</td>\n",
       "      <td>no</td>\n",
       "      <td>Mid Age Adults</td>\n",
       "      <td>Entrepreneur</td>\n",
       "    </tr>\n",
       "    <tr>\n",
       "      <th>3</th>\n",
       "      <td>47</td>\n",
       "      <td>blue-collar</td>\n",
       "      <td>married</td>\n",
       "      <td>secondary</td>\n",
       "      <td>no</td>\n",
       "      <td>1506</td>\n",
       "      <td>yes</td>\n",
       "      <td>no</td>\n",
       "      <td>cellular</td>\n",
       "      <td>5</td>\n",
       "      <td>may</td>\n",
       "      <td>2.0</td>\n",
       "      <td>1</td>\n",
       "      <td>-1</td>\n",
       "      <td>0</td>\n",
       "      <td>unknown</td>\n",
       "      <td>no</td>\n",
       "      <td>Veterans</td>\n",
       "      <td>Blue Collar</td>\n",
       "    </tr>\n",
       "    <tr>\n",
       "      <th>4</th>\n",
       "      <td>33</td>\n",
       "      <td>blue-collar</td>\n",
       "      <td>single</td>\n",
       "      <td>secondary</td>\n",
       "      <td>no</td>\n",
       "      <td>1</td>\n",
       "      <td>no</td>\n",
       "      <td>no</td>\n",
       "      <td>cellular</td>\n",
       "      <td>5</td>\n",
       "      <td>may</td>\n",
       "      <td>3.0</td>\n",
       "      <td>1</td>\n",
       "      <td>-1</td>\n",
       "      <td>0</td>\n",
       "      <td>unknown</td>\n",
       "      <td>no</td>\n",
       "      <td>Mid Age Adults</td>\n",
       "      <td>Blue Collar</td>\n",
       "    </tr>\n",
       "  </tbody>\n",
       "</table>\n",
       "</div>"
      ],
      "text/plain": [
       "   age           job  marital  education default  balance housing  \\\n",
       "0   58    management  married   tertiary      no     2143     yes   \n",
       "1   44    technician   single  secondary      no       29     yes   \n",
       "2   33  entrepreneur  married  secondary      no        2     yes   \n",
       "3   47   blue-collar  married  secondary      no     1506     yes   \n",
       "4   33   blue-collar   single  secondary      no        1      no   \n",
       "\n",
       "  Personal_Loan   contact  day month  Last_Call_Duration  \\\n",
       "0            no  cellular    5   may                 4.0   \n",
       "1            no  cellular    5   may                 3.0   \n",
       "2           yes  cellular    5   may                 1.0   \n",
       "3            no  cellular    5   may                 2.0   \n",
       "4            no  cellular    5   may                 3.0   \n",
       "\n",
       "   Current_Camp_Contacts  Contact_Day_Diff  Previous_Camp_Contact  \\\n",
       "0                      1                -1                      0   \n",
       "1                      1                -1                      0   \n",
       "2                      1                -1                      0   \n",
       "3                      1                -1                      0   \n",
       "4                      1                -1                      0   \n",
       "\n",
       "  Previous_Camp_Status Curr_Camp_Status       Age_Group     Job_Group  \n",
       "0              unknown               no        Veterans  White Collar  \n",
       "1              unknown               no  Mid Age Adults   Blue Collar  \n",
       "2              unknown               no  Mid Age Adults  Entrepreneur  \n",
       "3              unknown               no        Veterans   Blue Collar  \n",
       "4              unknown               no  Mid Age Adults   Blue Collar  "
      ]
     },
     "execution_count": 272,
     "metadata": {},
     "output_type": "execute_result"
    }
   ],
   "source": [
    "bank_data.head()"
   ]
  },
  {
   "cell_type": "markdown",
   "id": "fe8a56d2",
   "metadata": {},
   "source": [
    "**GROUPING THE Current_Camp_Contact Column**\n",
    "\n",
    "**•cosidered value >0 and <=1 as Upto 1 Contacts**\n",
    "\n",
    "**•considered value >2 and <= 5 as upto 5 Contacts**\n",
    "\n",
    "**•considered value >6 and <= 15 as upto 15 Contacts**\n",
    "\n",
    "**•considered value >16 and <= 30 as upto 30 Contacts**\n",
    "\n",
    "**•considered value >31 and <= 50 as upto 50 Contacts**\n",
    "\n",
    "**•considered value >50  as more than 50 Contacts**"
   ]
  },
  {
   "cell_type": "code",
   "execution_count": 273,
   "id": "311cc6dc",
   "metadata": {},
   "outputs": [],
   "source": [
    "#creating a function.\n",
    "def cont_grp(x):\n",
    "    if x >0 and x<=1 :\n",
    "        return 'Upto 1 Contacts'\n",
    "    elif x >=2 and x<= 5:\n",
    "        return 'upto 5 Contacts'\n",
    "    elif x >=6 and x<= 15:\n",
    "        return 'upto 15 Contacts'\n",
    "    elif x >=16 and x<= 30:\n",
    "        return 'upto 30 Contacts'\n",
    "    elif x >=31 and x<= 50:\n",
    "        return 'upto 50 Contacts'\n",
    "    else:\n",
    "        return 'more than 50 Contacts'"
   ]
  },
  {
   "cell_type": "code",
   "execution_count": 274,
   "id": "c63b4a53",
   "metadata": {},
   "outputs": [],
   "source": [
    "bank_data['Current_Camp_Contacts']= bank_data['Current_Camp_Contacts'].apply(cont_grp)"
   ]
  },
  {
   "cell_type": "code",
   "execution_count": 275,
   "id": "bc4a1298",
   "metadata": {},
   "outputs": [
    {
     "data": {
      "text/plain": [
       "upto 5 Contacts          23312\n",
       "Upto 1 Contacts          17544\n",
       "upto 15 Contacts          3825\n",
       "upto 30 Contacts           471\n",
       "upto 50 Contacts            55\n",
       "more than 50 Contacts        4\n",
       "Name: Current_Camp_Contacts, dtype: int64"
      ]
     },
     "execution_count": 275,
     "metadata": {},
     "output_type": "execute_result"
    }
   ],
   "source": [
    "bank_data['Current_Camp_Contacts'].value_counts()"
   ]
  },
  {
   "cell_type": "markdown",
   "id": "83423ac4",
   "metadata": {},
   "source": [
    "**STEP.07.10= OPERATING THE Previous_camp_Status COLUMN**\n",
    "\n",
    "**•We need to the check the view counts and uniqueness of the entries**\n",
    "\n",
    "**•Replacing null values (i.e 'unknown') with not contacted and (others) with failure**"
   ]
  },
  {
   "cell_type": "code",
   "execution_count": 276,
   "id": "0d036c0c",
   "metadata": {},
   "outputs": [
    {
     "data": {
      "text/plain": [
       "array(['unknown', 'failure', 'other', 'success'], dtype=object)"
      ]
     },
     "execution_count": 276,
     "metadata": {},
     "output_type": "execute_result"
    }
   ],
   "source": [
    "bank_data['Previous_Camp_Status'].unique()"
   ]
  },
  {
   "cell_type": "code",
   "execution_count": 277,
   "id": "5fee85ce",
   "metadata": {},
   "outputs": [
    {
     "data": {
      "text/plain": [
       "unknown    36959\n",
       "failure     4901\n",
       "other       1840\n",
       "success     1511\n",
       "Name: Previous_Camp_Status, dtype: int64"
      ]
     },
     "execution_count": 277,
     "metadata": {},
     "output_type": "execute_result"
    }
   ],
   "source": [
    "bank_data['Previous_Camp_Status'].value_counts()"
   ]
  },
  {
   "cell_type": "code",
   "execution_count": 278,
   "id": "6cf25b5a",
   "metadata": {},
   "outputs": [],
   "source": [
    "#replacing the unwanted records: unknown=Not Contacted, other=failure\n",
    "bank_data['Previous_Camp_Status'] = bank_data['Previous_Camp_Status'].replace('unknown', 'Not Contacted').replace('other','failure')"
   ]
  },
  {
   "cell_type": "code",
   "execution_count": 279,
   "id": "13aa9e2d",
   "metadata": {},
   "outputs": [
    {
     "data": {
      "text/plain": [
       "Not Contacted    36959\n",
       "failure           6741\n",
       "success           1511\n",
       "Name: Previous_Camp_Status, dtype: int64"
      ]
     },
     "execution_count": 279,
     "metadata": {},
     "output_type": "execute_result"
    }
   ],
   "source": [
    "#Checking the changes after replacement\n",
    "bank_data['Previous_Camp_Status'].value_counts()"
   ]
  },
  {
   "cell_type": "code",
   "execution_count": 280,
   "id": "6eaeb8f7",
   "metadata": {},
   "outputs": [
    {
     "data": {
      "text/html": [
       "<div>\n",
       "<style scoped>\n",
       "    .dataframe tbody tr th:only-of-type {\n",
       "        vertical-align: middle;\n",
       "    }\n",
       "\n",
       "    .dataframe tbody tr th {\n",
       "        vertical-align: top;\n",
       "    }\n",
       "\n",
       "    .dataframe thead th {\n",
       "        text-align: right;\n",
       "    }\n",
       "</style>\n",
       "<table border=\"1\" class=\"dataframe\">\n",
       "  <thead>\n",
       "    <tr style=\"text-align: right;\">\n",
       "      <th></th>\n",
       "      <th>age</th>\n",
       "      <th>job</th>\n",
       "      <th>marital</th>\n",
       "      <th>education</th>\n",
       "      <th>default</th>\n",
       "      <th>balance</th>\n",
       "      <th>housing</th>\n",
       "      <th>Personal_Loan</th>\n",
       "      <th>contact</th>\n",
       "      <th>day</th>\n",
       "      <th>month</th>\n",
       "      <th>Last_Call_Duration</th>\n",
       "      <th>Current_Camp_Contacts</th>\n",
       "      <th>Contact_Day_Diff</th>\n",
       "      <th>Previous_Camp_Contact</th>\n",
       "      <th>Previous_Camp_Status</th>\n",
       "      <th>Curr_Camp_Status</th>\n",
       "      <th>Age_Group</th>\n",
       "      <th>Job_Group</th>\n",
       "    </tr>\n",
       "  </thead>\n",
       "  <tbody>\n",
       "    <tr>\n",
       "      <th>0</th>\n",
       "      <td>58</td>\n",
       "      <td>management</td>\n",
       "      <td>married</td>\n",
       "      <td>tertiary</td>\n",
       "      <td>no</td>\n",
       "      <td>2143</td>\n",
       "      <td>yes</td>\n",
       "      <td>no</td>\n",
       "      <td>cellular</td>\n",
       "      <td>5</td>\n",
       "      <td>may</td>\n",
       "      <td>4.0</td>\n",
       "      <td>Upto 1 Contacts</td>\n",
       "      <td>-1</td>\n",
       "      <td>0</td>\n",
       "      <td>Not Contacted</td>\n",
       "      <td>no</td>\n",
       "      <td>Veterans</td>\n",
       "      <td>White Collar</td>\n",
       "    </tr>\n",
       "    <tr>\n",
       "      <th>1</th>\n",
       "      <td>44</td>\n",
       "      <td>technician</td>\n",
       "      <td>single</td>\n",
       "      <td>secondary</td>\n",
       "      <td>no</td>\n",
       "      <td>29</td>\n",
       "      <td>yes</td>\n",
       "      <td>no</td>\n",
       "      <td>cellular</td>\n",
       "      <td>5</td>\n",
       "      <td>may</td>\n",
       "      <td>3.0</td>\n",
       "      <td>Upto 1 Contacts</td>\n",
       "      <td>-1</td>\n",
       "      <td>0</td>\n",
       "      <td>Not Contacted</td>\n",
       "      <td>no</td>\n",
       "      <td>Mid Age Adults</td>\n",
       "      <td>Blue Collar</td>\n",
       "    </tr>\n",
       "    <tr>\n",
       "      <th>2</th>\n",
       "      <td>33</td>\n",
       "      <td>entrepreneur</td>\n",
       "      <td>married</td>\n",
       "      <td>secondary</td>\n",
       "      <td>no</td>\n",
       "      <td>2</td>\n",
       "      <td>yes</td>\n",
       "      <td>yes</td>\n",
       "      <td>cellular</td>\n",
       "      <td>5</td>\n",
       "      <td>may</td>\n",
       "      <td>1.0</td>\n",
       "      <td>Upto 1 Contacts</td>\n",
       "      <td>-1</td>\n",
       "      <td>0</td>\n",
       "      <td>Not Contacted</td>\n",
       "      <td>no</td>\n",
       "      <td>Mid Age Adults</td>\n",
       "      <td>Entrepreneur</td>\n",
       "    </tr>\n",
       "    <tr>\n",
       "      <th>3</th>\n",
       "      <td>47</td>\n",
       "      <td>blue-collar</td>\n",
       "      <td>married</td>\n",
       "      <td>secondary</td>\n",
       "      <td>no</td>\n",
       "      <td>1506</td>\n",
       "      <td>yes</td>\n",
       "      <td>no</td>\n",
       "      <td>cellular</td>\n",
       "      <td>5</td>\n",
       "      <td>may</td>\n",
       "      <td>2.0</td>\n",
       "      <td>Upto 1 Contacts</td>\n",
       "      <td>-1</td>\n",
       "      <td>0</td>\n",
       "      <td>Not Contacted</td>\n",
       "      <td>no</td>\n",
       "      <td>Veterans</td>\n",
       "      <td>Blue Collar</td>\n",
       "    </tr>\n",
       "    <tr>\n",
       "      <th>4</th>\n",
       "      <td>33</td>\n",
       "      <td>blue-collar</td>\n",
       "      <td>single</td>\n",
       "      <td>secondary</td>\n",
       "      <td>no</td>\n",
       "      <td>1</td>\n",
       "      <td>no</td>\n",
       "      <td>no</td>\n",
       "      <td>cellular</td>\n",
       "      <td>5</td>\n",
       "      <td>may</td>\n",
       "      <td>3.0</td>\n",
       "      <td>Upto 1 Contacts</td>\n",
       "      <td>-1</td>\n",
       "      <td>0</td>\n",
       "      <td>Not Contacted</td>\n",
       "      <td>no</td>\n",
       "      <td>Mid Age Adults</td>\n",
       "      <td>Blue Collar</td>\n",
       "    </tr>\n",
       "  </tbody>\n",
       "</table>\n",
       "</div>"
      ],
      "text/plain": [
       "   age           job  marital  education default  balance housing  \\\n",
       "0   58    management  married   tertiary      no     2143     yes   \n",
       "1   44    technician   single  secondary      no       29     yes   \n",
       "2   33  entrepreneur  married  secondary      no        2     yes   \n",
       "3   47   blue-collar  married  secondary      no     1506     yes   \n",
       "4   33   blue-collar   single  secondary      no        1      no   \n",
       "\n",
       "  Personal_Loan   contact  day month  Last_Call_Duration  \\\n",
       "0            no  cellular    5   may                 4.0   \n",
       "1            no  cellular    5   may                 3.0   \n",
       "2           yes  cellular    5   may                 1.0   \n",
       "3            no  cellular    5   may                 2.0   \n",
       "4            no  cellular    5   may                 3.0   \n",
       "\n",
       "  Current_Camp_Contacts  Contact_Day_Diff  Previous_Camp_Contact  \\\n",
       "0       Upto 1 Contacts                -1                      0   \n",
       "1       Upto 1 Contacts                -1                      0   \n",
       "2       Upto 1 Contacts                -1                      0   \n",
       "3       Upto 1 Contacts                -1                      0   \n",
       "4       Upto 1 Contacts                -1                      0   \n",
       "\n",
       "  Previous_Camp_Status Curr_Camp_Status       Age_Group     Job_Group  \n",
       "0        Not Contacted               no        Veterans  White Collar  \n",
       "1        Not Contacted               no  Mid Age Adults   Blue Collar  \n",
       "2        Not Contacted               no  Mid Age Adults  Entrepreneur  \n",
       "3        Not Contacted               no        Veterans   Blue Collar  \n",
       "4        Not Contacted               no  Mid Age Adults   Blue Collar  "
      ]
     },
     "execution_count": 280,
     "metadata": {},
     "output_type": "execute_result"
    }
   ],
   "source": [
    "bank_data.head()"
   ]
  },
  {
   "cell_type": "markdown",
   "id": "96879451",
   "metadata": {},
   "source": [
    "**OPERATING THE Curr_Camp_Status COLUMN**\n",
    "\n",
    "**•Replacing yes = Subscribed & no = Not Subscribed**"
   ]
  },
  {
   "cell_type": "code",
   "execution_count": 281,
   "id": "009a24f6",
   "metadata": {},
   "outputs": [],
   "source": [
    "bank_data.Curr_Camp_Status = bank_data.Curr_Camp_Status.replace('yes','Subscribed').replace('no','Not Subscribed')"
   ]
  },
  {
   "cell_type": "code",
   "execution_count": 282,
   "id": "f5da8d0b",
   "metadata": {},
   "outputs": [
    {
     "data": {
      "text/plain": [
       "Not Subscribed    39922\n",
       "Subscribed         5289\n",
       "Name: Curr_Camp_Status, dtype: int64"
      ]
     },
     "execution_count": 282,
     "metadata": {},
     "output_type": "execute_result"
    }
   ],
   "source": [
    "bank_data.Curr_Camp_Status.value_counts()"
   ]
  },
  {
   "cell_type": "code",
   "execution_count": 283,
   "id": "b074b006",
   "metadata": {},
   "outputs": [],
   "source": [
    "bank_data.to_csv('Final_Bank_Data.csv')"
   ]
  },
  {
   "cell_type": "code",
   "execution_count": null,
   "id": "2d145084",
   "metadata": {},
   "outputs": [],
   "source": []
  }
 ],
 "metadata": {
  "kernelspec": {
   "display_name": "Python 3 (ipykernel)",
   "language": "python",
   "name": "python3"
  },
  "language_info": {
   "codemirror_mode": {
    "name": "ipython",
    "version": 3
   },
   "file_extension": ".py",
   "mimetype": "text/x-python",
   "name": "python",
   "nbconvert_exporter": "python",
   "pygments_lexer": "ipython3",
   "version": "3.9.13"
  }
 },
 "nbformat": 4,
 "nbformat_minor": 5
}
